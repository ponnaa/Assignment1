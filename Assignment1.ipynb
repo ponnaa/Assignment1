{
  "nbformat": 4,
  "nbformat_minor": 0,
  "metadata": {
    "colab": {
      "name": "Untitled18.ipynb",
      "provenance": []
    },
    "kernelspec": {
      "name": "python3",
      "display_name": "Python 3"
    },
    "language_info": {
      "name": "python"
    }
  },
  "cells": [
    {
      "cell_type": "code",
      "execution_count": 1,
      "metadata": {
        "id": "ZFgOL1Y1nLeb"
      },
      "outputs": [],
      "source": [
        "import os\n",
        "os.mkdir(\"task\")"
      ]
    },
    {
      "cell_type": "code",
      "source": [
        "file1=open(\"task/task1.py\",\"x\")\n",
        "file2=open(\"task/database.txt\",\"x\")"
      ],
      "metadata": {
        "id": "G8u9pI8gnMag"
      },
      "execution_count": 2,
      "outputs": []
    },
    {
      "cell_type": "code",
      "source": [
        "%%writefile task/task1.py\n",
        "import re\n",
        "def register():\n",
        "  db=open(\"task/database.txt\",\"r\")\n",
        "  Username=input(\"Enter your email id\")\n",
        "  Password=input(\"enter your password\")\n",
        "  e=[]\n",
        "  p=[]\n",
        "  for i in db:\n",
        "    a,b=i.split(\", \")\n",
        "    b=b.strip()\n",
        "    e.append(a)\n",
        "    p.append(b)\n",
        "  data=dict(zip(e,p))\n",
        "  print(data)\n",
        "  #username validation\n",
        "  regex=r'\\b[A-Za-z0-9._%+-]+@[A-Za-z0-9.-]+\\.[A-Z|a-z]{2,}\\b'\n",
        "  uservalidate=re.fullmatch(regex,Username)\n",
        "  #password validation\n",
        "  reg=\"^(?=.*[a-z])(?=.*[A-Z])(?=.*\\d)(?=.*[@#$%&?*&])[A-Za-z\\d@#$%&?*&]{5,16}$\"\n",
        "  pat=re.compile(reg)\n",
        "  pwdvalidate=re.search(pat,Password)\n",
        "  if not(uservalidate):\n",
        "    print(\"username is invalid\\nusername should have '@' and followed by '.'\\nthere should not be any '.' immediate next to '@'\\nit should not start with special characters and numbers\")\n",
        "  elif not(pwdvalidate):\n",
        "    print(\"Password is invalid\\nPassword length should be greater than 5 and less than 16\\nMust have minimum one special character,one digit,one uppercase, one lowercase character\")\n",
        "  elif Username in e:\n",
        "    print(\"User already exists try sign in with other Username / login\")\n",
        "  else:\n",
        "    db=open(\"task/database.txt\",\"a\")\n",
        "    db.write(Username+\", \"+Password+\"\\n\")\n",
        "    print(\"User registered successfully\")\n",
        "    \n",
        "  \n",
        "def access():\n",
        "  db=open(\"task/database.txt\",\"r\")\n",
        "  Username=input(\"Enter your email id\")\n",
        "  Password=input(\"enter your password\")\n",
        "  if not len(Username or Password)<1:\n",
        "     e=[]\n",
        "     p=[]\n",
        "     for i in db:\n",
        "      a,b=i.split(\", \")\n",
        "      b=b.strip()\n",
        "      e.append(a)\n",
        "      p.append(b)\n",
        "  data=dict(zip(e,p))\n",
        "  try:\n",
        "    if data[Username]:\n",
        "      try:\n",
        "        if Password==data[Username]:\n",
        "          print(\"Login Success\")\n",
        "          print(\"Hi, \",Username)\n",
        "        else:\n",
        "          print(\"Password is incorrect\")\n",
        "          option1=input(\"Forget Password | Sign up\")\n",
        "          if option1==\"Forget Password\":\n",
        "            forgetpwd()\n",
        "          elif option1==\"Sign up\":\n",
        "            if Username in e:\n",
        "              print(\"Username already exists so click on forget password\")\n",
        "            else:\n",
        "              register()\n",
        "      except:\n",
        "        print(\"Password or Username incorrect\")\n",
        "    else:\n",
        "      print(\"Username doesn't exists please signup\")\n",
        "      register()\n",
        "  except:\n",
        "    print(\"Username doesn't exists please signup\")\n",
        "\n",
        "def forgetpwd():\n",
        "  db=open(\"task/database.txt\",\"r\")\n",
        "  Username=input(\"Enter your email id\")\n",
        "  e=[]\n",
        "  p=[]\n",
        "  for i in db:\n",
        "    a,b=i.split(\", \")\n",
        "    b=b.strip()\n",
        "    e.append(a)\n",
        "    p.append(b)\n",
        "  data=dict(zip(e,p))\n",
        "  if Username in e:\n",
        "    userpwd=data[Username]\n",
        "    print(\"Your password is\",userpwd)     \n",
        "\n",
        "def first(option=None):\n",
        "  option=input(\"Login | Sign up\")\n",
        "  if option==\"Login\":\n",
        "    access()\n",
        "  elif option==\"Sign up\":\n",
        "    register()\n",
        "  else:\n",
        "    print(\"Please enter any one of the options\")\n",
        "first()\n"
      ],
      "metadata": {
        "colab": {
          "base_uri": "https://localhost:8080/"
        },
        "id": "-dgq8ZjNnQd4",
        "outputId": "7457a467-6381-48b4-8762-4c7f58bbe345"
      },
      "execution_count": 6,
      "outputs": [
        {
          "output_type": "stream",
          "name": "stdout",
          "text": [
            "Overwriting task/task1.py\n"
          ]
        }
      ]
    },
    {
      "cell_type": "code",
      "source": [
        "!python task/task1.py"
      ],
      "metadata": {
        "colab": {
          "base_uri": "https://localhost:8080/"
        },
        "id": "yXkVtJD4nUPa",
        "outputId": "6fcafd96-8153-4255-c021-4d88a91db997"
      },
      "execution_count": 7,
      "outputs": [
        {
          "output_type": "stream",
          "name": "stdout",
          "text": [
            "Login | Sign upSign up\n",
            "Enter your email idtest@gmail.com\n",
            "enter your passwordheOfev1234@\n",
            "{}\n",
            "User registered successfully\n"
          ]
        }
      ]
    },
    {
      "cell_type": "code",
      "source": [
        ""
      ],
      "metadata": {
        "id": "Pd5JZ15qnZr6"
      },
      "execution_count": null,
      "outputs": []
    }
  ]
}